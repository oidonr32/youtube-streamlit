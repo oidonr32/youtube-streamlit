{
 "cells": [
  {
   "cell_type": "code",
   "execution_count": 1,
   "id": "db8db83f-acd8-45c3-975a-5993cc395096",
   "metadata": {},
   "outputs": [
    {
     "name": "stdout",
     "output_type": "stream",
     "text": [
      "--------------------------------------------------\n",
      "財布には1000円入っています\n",
      "appleは1個100円です\n"
     ]
    },
    {
     "name": "stdin",
     "output_type": "stream",
     "text": [
      "購入するappleの個数を入力してください： 3\n"
     ]
    },
    {
     "name": "stdout",
     "output_type": "stream",
     "text": [
      "購入するappleの個数は3個です\n",
      "支払い金額は300円です\n",
      "appleを3個買いました\n",
      "--------------------------------------------------\n",
      "財布には700円入っています\n",
      "bananaは1個200円です\n"
     ]
    },
    {
     "name": "stdin",
     "output_type": "stream",
     "text": [
      "購入するbananaの個数を入力してください： 1\n"
     ]
    },
    {
     "name": "stdout",
     "output_type": "stream",
     "text": [
      "購入するbananaの個数は1個です\n",
      "支払い金額は200円です\n",
      "bananaを1個買いました\n",
      "--------------------------------------------------\n",
      "財布には500円入っています\n",
      "orangeは1個400円です\n"
     ]
    },
    {
     "name": "stdin",
     "output_type": "stream",
     "text": [
      "購入するorangeの個数を入力してください： 2\n"
     ]
    },
    {
     "name": "stdout",
     "output_type": "stream",
     "text": [
      "購入するorangeの個数は2個です\n",
      "支払い金額は800円です\n",
      "お金が足りません\n",
      "orangeを買えませんでした\n",
      "残金は500円です\n"
     ]
    }
   ],
   "source": [
    "money = 1000\n",
    "items = {'apple': 100, 'banana': 200, 'orange': 400}\n",
    "for item_name in items:\n",
    "    print('--------------------------------------------------')\n",
    "    print('財布には' + str(money) + '円入っています')\n",
    "    print(item_name + 'は1個' + str(items[item_name]) + '円です')\n",
    "    \n",
    "    input_count = input('購入する' + item_name + 'の個数を入力してください：')\n",
    "    print('購入する' + item_name + 'の個数は' + input_count + '個です')\n",
    "    \n",
    "    count = int(input_count)\n",
    "    total_price = items[item_name] * count\n",
    "    print('支払い金額は' + str(total_price) + '円です')\n",
    "    \n",
    "    if money >= total_price:\n",
    "        print(item_name + 'を' + input_count + '個買いました')\n",
    "        money -= total_price\n",
    "        # if 文を用いて、 money の値が 0 のときの条件を分岐してください\n",
    "        if money == 0:\n",
    "          print('財布が空になりました')\n",
    "          break\n",
    "        \n",
    "        \n",
    "    else:\n",
    "        print('お金が足りません')\n",
    "        print(item_name + 'を買えませんでした')\n",
    "# 変数 money と型変換を用いて、「 残金は◯◯円です 」となるように出力してください\n",
    "print('残金は' + str(money) + '円です')\n"
   ]
  },
  {
   "cell_type": "code",
   "execution_count": null,
   "id": "a086ac4b-4d68-4286-8abc-e3993280ffba",
   "metadata": {},
   "outputs": [],
   "source": []
  }
 ],
 "metadata": {
  "kernelspec": {
   "display_name": "Python 3 (ipykernel)",
   "language": "python",
   "name": "python3"
  },
  "language_info": {
   "codemirror_mode": {
    "name": "ipython",
    "version": 3
   },
   "file_extension": ".py",
   "mimetype": "text/x-python",
   "name": "python",
   "nbconvert_exporter": "python",
   "pygments_lexer": "ipython3",
   "version": "3.9.13"
  }
 },
 "nbformat": 4,
 "nbformat_minor": 5
}
